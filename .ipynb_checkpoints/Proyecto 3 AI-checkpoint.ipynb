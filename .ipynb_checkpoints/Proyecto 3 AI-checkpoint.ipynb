{
 "cells": [
  {
   "cell_type": "markdown",
   "metadata": {
    "colab_type": "text",
    "id": "hblBz_0ucCDy"
   },
   "source": [
    "Proyecto #3 inteligencia artificial\\\n",
    "Universidad Nacional de Colombia\\\n",
    "  Lizeth Ortiz\\\n",
    "  Paula Vizcaíno"
   ]
  },
  {
   "cell_type": "markdown",
   "metadata": {
    "colab_type": "text",
    "id": "Z6vpFNnp1Mdr"
   },
   "source": [
    "# Modelo para predecir calificaciones\n",
    "Como seres humanos solemos buscar contantemente socializar con nuestro entorno debido a nuestras necesidades sociales a que fin de cuentas nos impulsan a buscar aceptación de nuestros pares, esto conlleva nuestra atención hacia las opiniones que posean los demás hacia nosotros ya que esto influye en todo aspecto diario. Es por ello que hoy en día gran parte de las personas rigen su consumo mediante plataformas online siendo así las calificaciones de los demás usuarios uno de los factores que más afectan a la hora de adquirir un producto.\n",
    "\n",
    "Aun así, los sistemas de calificaciones no se queda únicamente en el ámbito del consumidor monetario sino que a su vez se han empezado a implementar en todos los ámbitos de la vida; siendo el ámbito universitario uno de ellos. Por lo cual, mediante este proyecto, se busca generar un sistema que prediga las calificaciones correspondientes a los profesores que se puedan encontrar en https://www.losestudiantes.co mediantes las evaluaciones realizadas por los estudiantes.\n",
    "\n",
    "Este modelo es útil debido a que en base a las opiniones se puede generar una media para futuras predicciones, esto fue implementado en la red social twitter por L. Mointesinos en la Univerasidad de Chile quien mediante los tweets de los usuarios logró un modelo que predecía los comentarios de estos en situaciones adversas. De la misma forma, estos modelos no solo se pueden implementar en el ámbito social, esto lo podemos evidenciar en el sistemas desarrollado por C. Aguirre en la Universidad de Castilla (España) que, mediante análisis de redes sociales,predecías las situciones financieras de los usuarios.\n",
    "\n",
    "Ya para el ámbito universitario en el cual se especificará este proyecto se tuvo cuenta que en esta página no solo se pueden encontrar las calificaciones realizadas por los usuarios sino que a su vez encontramos comentarios que, en algunos casos, soportan su calificación. Y, a su vez, se tuvo en también cuenta factores tales como que los estudiantes no suelen ser imparciales a la hora de evaluar a un docente debido a diferentes factores en la relación alumno-docente ya sean negativos o positivos, al igual que algunos estudiantes no generan coherencia entre su evaluación al docente y su comentario. \n",
    "\n",
    "De este modo, para lograr las predicciones adecuadas se realizó, por cada docente, las calificaciones recibidas y los respectivos comentarios de cada una. Posteriormente, se filtró cada comentario mediante una librería de stopwords para graficar las palabras significativas según su aparición. Finalmente, por medio de un conteo y una media entre las palabras positivas y las palabras negativas predecir una calificación más acertada para el docente."
   ]
  },
  {
   "cell_type": "markdown",
   "metadata": {
    "colab_type": "text",
    "id": "rdsHx1a3Y702"
   },
   "source": [
    "\n",
    "# **Se filtra la información por cada url**\n",
    "\n",
    "Dadas las URL se realiza la extracción de la información que necesitamos: los comentarios con sus respectivas calificaciones al profesor. Para ello se analiza la estructura del HTML de las páginas para saber en qué sección se encuentra dicha información.\n",
    "Las librerías que se usan son **requests** que es una librería estandar para hacer solicitudes de HTTP en python  y **BeautifulSoup** que nos ayuda para la extracción de datos de HTML y archivos XML."
   ]
  },
  {
   "cell_type": "code",
   "execution_count": 1,
   "metadata": {
    "colab": {},
    "colab_type": "code",
    "id": "4hArQLFr1Mdz"
   },
   "outputs": [],
   "source": [
    "#librerías\n",
    "import requests\n",
    "from bs4 import BeautifulSoup"
   ]
  },
  {
   "cell_type": "code",
   "execution_count": 2,
   "metadata": {
    "colab": {},
    "colab_type": "code",
    "id": "7bjFGm7f1Md6",
    "outputId": "f3b990e2-006f-459a-ba3b-5cad39dceb32"
   },
   "outputs": [
    {
     "name": "stdout",
     "output_type": "stream",
     "text": [
      "https://losestudiantes.co/universidad-nacional/matematicas/profesores/jaime-andres-robayo-mesa\n",
      "commentario 1\n",
      "nota: 4.5\n",
      "0 Text: Es un muy buen profesor, se esmera por enseñar el tema que le corresponde en mi caso Calculo Diferencial, los pariciales no son dificiles, pero si son de dedicación. \n",
      "Pros: \n",
      "Cons: \n",
      "\n",
      "commentario 2\n",
      "nota: 5\n",
      "1 Text: Es un amor de profesor,se esfuerza mucho porque entiendas la clase, porque no sientas hastio, por demostrar su amor a las matematicas. Son clases muy dinamicas y entretenidas, siempre da ayudas,los parciales son acorde a lo que él explica y a los talleres que deja. En definitiva una de las mejores opciones para calculo diferencial.\n",
      "Pros: \n",
      "Cons: \n",
      "\n",
      "commentario 3\n",
      "nota: 5\n",
      "2 Text: Perdidamente apasionado por las matemáticas. La clase es amena y divertida. Intenta dar conceptos, desarrollar intuición y fundamentación matemática un tanto formal, aspecto del cual los docentes de/para ingeniería suelen prescindir. Se preocupa por los estudiantes y su bienestar. Califica como una madrecita. Y es una genialísima persona. \n",
      "Pros:  Se aprende. \n",
      "No es muy difícil obtener buenas calificaciones, siempre y cuando se estudie. \n",
      "Responde todas las dudas.\n",
      "Es flexible con la dinámica de la clase: deja que los estudiantes decidan. \n",
      "No hay una jerarquía académica. Estudiante y profesor son valorados. \n",
      "Cons:  Casi siempre llega un poquito tarde, pero el tiempo de la clase vale completamente la pena.\n",
      "\n",
      "commentario 4\n",
      "nota: 4.4\n",
      "3 Text: Es un profesor que se preocupa mucho por hacerse entender, es claro con lo que explica y muy buena gente. La clase es muy amena.\n",
      "Pros:  Deja un taller muy parecido al parcial para hacer en grupos antes de cada parcial.\n",
      "Es fácil seguir el ritmo de la clase y agota recursos para hacerse entender.\n",
      "Es comprensivo\n",
      "Da bastantes ayudas si te está costando la materia.\n",
      "Cons:  No da horarios fuera de clase.\n",
      "\n",
      "\n",
      "commentario 5\n",
      "nota: 4.7\n",
      "4 Text: Explica bastante bien, tiene verdadero interes en enseñar a pesar de lo dificil que es en una magistral, los parciales estan bien.\n",
      "Al final ayudo a todos con un par de decimas (Por acercarse navidad)\n",
      "Pros:  Metodologia\n",
      "Clases\n",
      "Cons: \n",
      "\n",
      "commentario 6\n",
      "nota: 5\n",
      "5 Text: exelente metodo de enseñanza\n",
      "Pros:  todo\n",
      "Cons:  llega tarde\n",
      "\n",
      "\n",
      "commentario 7\n",
      "nota: 5\n",
      "6 Text: Excelente profesor, hace la clase interesante y explica muy claro. Se esfuerza para que todos entiendan. Deja un taller antes de cada parcial y de ahí salen algunos de los puntos. Los parciales son trabajables y califica muy suave. Es una excelente profesor y persona.\n",
      "Pros: \n",
      "Cons: \n",
      "\n",
      "commentario 8\n",
      "nota: 5\n",
      "7 Text: El profe Jaime es la mejor persona del mundo, es un profesor que si se interesa por que sus estudiantes aprendan y da muchísimas ayudas en cuanto a la nota. Los parciales pueden ser duros pero los califica muy suave para que los estudiantes no queden con un promedio muy bajo ya que esta materia vale 4 créditos.\n",
      "Pros: \n",
      "Cons: \n",
      "\n",
      "commentario 9\n",
      "nota: 1.5\n",
      "8 Text: es buena gente pero demasiado facil no se aprende nada \n",
      "Pros:  facil\n",
      "amable\n",
      "chistoso\n",
      "Cons:  no se aprende nada \n",
      "\n",
      "https://losestudiantes.co/universidad-nacional/matematicas/profesores/leonardo-rendon-arbelaez\n",
      "commentario 1\n",
      "nota: 4\n",
      "0 Text: Es bastante bueno \n",
      "Pros:  Sabe bastante y se nota que le interesa que aprendamos\n",
      "Cons:  Va demasiado rápido y sus dibujos no se entienden aveces\n",
      "\n",
      "commentario 2\n",
      "nota: 5\n",
      "1 Text: Uno de los mejores profesores de la Universidad, repasa la temática de cursos anteriores, y deja supremamente preparado para el siguiente, tanto así q lo deja con la intriga de lo que va a ver el próximo semestre. \n",
      "Pros:  -Clase interesante.\n",
      "-Explica teoría Básica y refuerza con ejercicios. \n",
      "Cons:  -Nada... \n",
      "\n",
      "commentario 3\n",
      "nota: 4.4\n",
      "2 Text: Excelente profesor en todo el sentido\n",
      "Pros:  Explica muy bien los temas y de la mejor manera posible, le encanta que uno pregunte para dejar muy claros los temas, excelente persona y le da un muy buen ambiente a la clase\n",
      "Cons:  Nada!\n",
      "\n",
      "commentario 4\n",
      "nota: 5\n",
      "3 Text: Es uno de los mejores profesores; su experiencia y su sencillez hacen que las clases sean muy provechosas.  Es muy justo con las evaluaciones.\n",
      "Pros:  Todo\n",
      "Cons:  Nada\n",
      "\n",
      "commentario 5\n",
      "nota: 4.4\n",
      "4 Text: Es un muy buen profesor, logra que uno se enganche al tema con su manera de explicarlo, el único problema serían sus dibujos, ya que eran pésimos y uno se confundía. Los parciales no eran fáciles pero resolvía bien las dudas y uno sabía el libro guía a usar (Marsden y Tromba), esto debido a que los parciales eran basados en los ejercicios propuesto...Leer más...\n",
      "Pros:  Dominio del tema.\n",
      "Buena pedagogía\n",
      "\n",
      "Cons:  Dibujos pésimos.\n",
      "\n",
      "\n",
      "commentario 6\n",
      "nota: 5\n",
      "5 Text: De los mejores, demasiado claro al explicar los temas, así que me pesa no haber aprovechado sus clases. Es un paisa muy simpático, sus clases siempre están llenas de chistes y muy pedagógico en su metodología. Hace quices cada viernes, y son una nota que ayuda mucho al final. Cualquier materia con él la matricularía sin dudarlo. \n",
      "Pros: \n",
      "Cons: \n",
      "\n",
      "commentario 7\n",
      "nota: 5\n",
      "6 Text: De nuevo, uno de los mejores profesores de la U. Vi ecuaciones diferenciales con él, después de haber visto integral también con él; y fue la mejor decisión. Es excepcional; tiene los temas super claros y también super claro el orden en el que los dicta. Todo lo relaciona con cosas de la vida laboral y cotidiana, y lo que siempre me ha parecido su ...Leer más...\n",
      "Pros:  Explica excelentísimo\n",
      "Se asegura de que entiendas bien\n",
      "Ejercicios para que practiques\n",
      "Parciales justos\n",
      "\n",
      "Cons: \n",
      "\n",
      "commentario 8\n",
      "nota: 5\n",
      "7 Text: Es uno de los mejores profesores que he tenido en mi vida, y creo que así va a ser siempre. Es excelente explicando, sorprendente... es muy ameno y divertido, las clases son súper entretenidas y siempre se preocupa porque los estudiantes aprendan; si es necesario, empieza a explicar de nuevo todo lo visto en clase, si le dices que no entiendes. Ati...Leer más...\n",
      "Pros:  Excelente profesor\n",
      "Ameno y divertido\n",
      "Siempre contesta las dudas\n",
      "Parciales justos\n",
      "Quices cada semana\n",
      "Cons: \n",
      "\n",
      "commentario 9\n",
      "nota: 5\n",
      "8 Text: Aunque perdí la materia con Herbert y ya tenia conocimientos previos tanto de lo que vi con él y colegio. Leonardo me mostro una nueva forma de abordar el cálculo diferencial que lleno todos mis vacíos conceptuales y lo mismo sucedió en álgebra lineal. El como da los temas lo incentiva a uno a ir puntual a clase. Las evaluaciones son de un nivel moderado. Lo recomiendo para cualquier curso\n",
      "Pros:  - Excelente pedagogía\n",
      "- Abarca muy bien los temas\n",
      "- Tiene anécdotas que lo ayudan a uno a entender  \n",
      "Cons: \n",
      "\n",
      "https://losestudiantes.co/universidad-nacional/matematicas/profesores/german-eduardo-fonseca-buitrago\n",
      "commentario 1\n",
      "nota: 2.1\n",
      "0 Text: El profesor se confunde en ocasiones y hace confundir a los estudiantes, responde a las preguntas en tono burlesco lo que resulta incomodo\n",
      "Pros: \n",
      "Cons: \n",
      "\n",
      "commentario 2\n",
      "nota: 2\n",
      "1 Text: El profesor sabe mucho, pero no sabe enseñar , es un poco grotesco y arrogante al pedirle ayuda, las demostraciones que hace son muy superficiales y las pide en el parcial.\n",
      "Pros:  conjunto vacío\n",
      "Cons:  Parciales difíciles, forma de calificar extraña\n",
      "\n",
      "commentario 3\n",
      "nota: 4.6\n",
      "2 Text: Explica muy bien y se le entiende, es amable, califica justo, los parciales son bastante pasables si se estudia juicioso los talleres, a veces deja hacer quices en parejas\n",
      "Pros:  Puntual, Ordenado, amable.\n",
      "Cons:  SI quiere aprovechar la materia tiene que hacerse adelante.\n",
      "\n",
      "commentario 4\n",
      "nota: 4\n",
      "3 Text: Explica bien, parciales similares a talleres\n",
      "Pros: \n",
      "Cons: \n",
      "\n",
      "commentario 5\n",
      "nota: 5\n",
      "4 Text: Excelente profesor, explica muy bien y no divaga, deja talleres para estudiar y califica lo justo, los parciales son trabajables siempre y cuando hayan hecho los talleres, muy respetuoso y amable\n",
      "Pros:  todo\n",
      "Cons:  nada\n",
      "\n",
      "commentario 6\n",
      "nota: 1.5\n",
      "5 Text: Se enreda con facilidad al explicar los temas\n",
      "Pros: \n",
      "Cons: \n",
      "\n",
      "commentario 7\n",
      "nota: 5\n",
      "6 Text: \n",
      "Pros:  Total dominio del tema, explica cada detalle, no hay un ejercicio que él no pueda resolver. Además, es capaz de resolverlos de maneras distintas.\n",
      "Cons:  Exámenes difíciles, califica bastante duro. llega muy temprano :v.\n",
      "\n",
      "commentario 8\n",
      "nota: 4.1\n",
      "7 Text: \n",
      "Pros:  Dicta una materia muy completa siendo riguroso en cualquie detalle se nota que el profesor dictando el curso y si deja para hacer talleres hacerlos \n",
      "Cons:  Es muy exigente en los parciales califica muy duro\n",
      "\n",
      "commentario 9\n",
      "nota: 4\n",
      "8 Text: \n",
      "Pros:  Quices por parejas, las clases son entendibles y siempre está dispuesto a resolver dudas de clase y de los talleres.\n",
      "Cons: \n",
      "\n",
      "commentario 10\n",
      "nota: 4.5\n",
      "9 Text: \n",
      "Pros:  Excelente docente, está dispuesto a solucionar dudas en horarios de atención y quices de a grupos\n",
      "Cons:  En salones grandes la clase sería mejor si usara micrófono, pues en ocasiones no se escucha.\n",
      "\n",
      "commentario 11\n",
      "nota: 4.5\n",
      "10 Text: Es un excelente profesor,  sin embargo las clases de los lunes con festivos , generó  que explicará muy rápido... pero en general bien,  hay que aprovechar el primer parcial y los quices. \n",
      "Pros: \n",
      "Cons: \n",
      "\n",
      "https://losestudiantes.co/universidad-nacional/matematicas/profesores/german-preciado-lopez\n"
     ]
    },
    {
     "name": "stdout",
     "output_type": "stream",
     "text": [
      "commentario 1\n",
      "nota: 2\n",
      "0 Text: No me gusto para nada su manera de enseñar, era muy extraño intimidante y estricto, dejo por fuera del primer parcial a las personas que llegaron como 5 minutos tarde, casi no se le entendia lo que exlpicaba y se debia estudiar fuera de clase\n",
      "Pros: \n",
      "Cons:  Muy extraño\n",
      "Muy estricto\n",
      "Casi no se le entendia nada\n",
      "\n",
      "commentario 2\n",
      "nota: 3\n",
      "1 Text: Explica for dummies pero califica nivel experto, es muy paila ver una materia con este señor, divaga mucho y no califica de manera justa.\n",
      "Pros:  Ayuda con la nota del primer parcial\n",
      "Cons:  Parciales muy jodos y no explica a profundidad.\n",
      "\n",
      "commentario 3\n",
      "nota: 3\n",
      "2 Text: Maneja bastante bien el tema y resolvía la mayoría de dudas que se generaban . Aunque algunas ocasiones se desviaba del tema y empezaba a hablar de su vida.Es estricto con la puntualidad, si uno llegaba 5 minutos tarde el día del parcial lo dejaba por fuera. \n",
      "\n",
      "\n",
      "\n",
      "\n",
      "Pros:  Maneja bien el tema\n",
      "Resuelve dudas\n",
      "Da ayuda en el segundo parcial\n",
      "\n",
      "Cons:  No se notaba preparacion en las clases \n",
      "Tiene que estudiar por cuenta suya bastante para pasar la materia\n",
      "Los parciales son jodidos\n",
      "\n",
      "\n",
      "commentario 4\n",
      "nota: 4.4\n",
      "3 Text: un profesor unico la verdad, como muchos dicen a veces divaga, es estricto y puede ser muy cortante con como califica puntos, sin embargo dio clases excelentes, se avanzaba bien en el tema se planteaban ejercicos complejos pero manejables siempre se preocupo porque uno aprendiera, y aunque a veces hacia comentarios causticos, para el buen entendend...Leer más...\n",
      "Pros:  senti que valio la pena mi esfuerzo a lo largo del semestre\n",
      "Cons:  estricto y no se guia demasiado por libros guia, me gustaría que compartiera mas los libros que usa para preparar la clase pues a veces explica muy rapido y si uno no llega sabiendo ya el bosquejo se puede perder\n",
      "\n",
      "commentario 5\n",
      "nota: 3.9\n",
      "4 Text: \n",
      "Pros:  Explica muy bien\n",
      "Tiene clara la temática\n",
      "Organizado en el tablero\n",
      "\n",
      "Cons:  La forma de calificar me pareció pésima. Si el resultado final está mal, tiene 0 en el punto y puede que se haya desarrollado el parcial pero es posible sacarse 0 si las respuestas no son las correctas.\n",
      "\n",
      "commentario 6\n",
      "nota: 3.5\n",
      "5 Text: En general explicaba bien pero solía divagar, lo cual complicaba en buen medida apropiarse de los temas. Algunos de estos fueron muy densos y era muy necesario trabajar para aprenderlos. Para los parciales había que estudiar bastante y no se dejaban muy altos. \n",
      "\n",
      "Con las otras notas aparte de parciales daba ayudas, en especial para el segundo parcia...Leer más...\n",
      "Pros:  Domina el tema.\n",
      "Cons:  Explica regular y divaga.\n",
      "\n",
      "https://losestudiantes.co/universidad-nacional/matematicas/profesores/gustavo-adolfo-nieto-clavijo\n",
      "commentario 1\n",
      "nota: 4.7\n",
      "0 Text: \n",
      "Pros:  Sus parciales son faciles\n",
      "Cons:  A veces no organiza bien el tiempo de las clases\n",
      "\n",
      "commentario 2\n",
      "nota: 5\n",
      "1 Text: Explica bien,es amable, los parciales son fáciles (no pide ninguna demostración) y generalmente los puntos salen de los ejemplos que pone en clase o del taller que manda ,recomiendo hacer los talleres, con eso se dejan seguramente en 5 todos los parciales (los talleres son relativamente fáciles).\n",
      "Pros:  Parciales  fáciles, se pueden dejar en 5 si se hacen los talleres.\n",
      "Cons:  A veces se enreda o se equivoca en los ejemplos, pero nada importante, el concepto se entiende claramente y generalmente los estudiantes lo corrigen.\n",
      "\n",
      "commentario 3\n",
      "nota: 5\n",
      "2 Text: Enseña muy bien y hace que uno le coja gusto a la materia. Es un profesor extremadamente amable con sus estudiantes y hace que uno se sienta muy cómodo. Algunos parciales son complicados pero vale mucho la pena meter con él \n",
      "Pros:  Es amable\n",
      "Se aprende\n",
      "Las clases son entretenidas\n",
      "Cons:  Califica duro\n",
      "\n",
      "commentario 4\n",
      "nota: 4.5\n",
      "3 Text: Buen profesor, explica muy bien aunque aveces va rápido con las demostraciones, lo cual compensa dejando pasar voluntarios al tablero para explicar como lo entendieron.\n",
      "Pros:  Entrega buen material de estudio, deja talleres y pasa los parciales de semestres anteriores, lo cual ayuda mucho a prepararse.\n",
      "\n",
      "El primer parcial es muy facil si se estudio suficiente\n",
      "Cons:  El segundo parcial es duro, toca estudiar bastante ahí.\n",
      "\n",
      "commentario 5\n",
      "nota: 4\n",
      "4 Text: Vi clase con él en el 2013, y me pareció buen profesor. Explica bien y atiende a las dudas de los estudiantes. Deja talleres que en verdad ayudan bastante para entender los temas, y los quices y parciales son absolutamente trabajables. Tal vez el problema es que la materia fue en un auditorio y fue para 90 personas, por lo que tal vez no había el s...Leer más...\n",
      "Pros:  Quices y parciales trabajables\n",
      "Cons: \n",
      "\n",
      "commentario 6\n",
      "nota: 5\n",
      "5 Text: La vida de un crítico es sencilla en muchos aspectos, arriesgamos poco, y tenemos poder sobre aquellos que ofrecen su trabajo y su servicio a nuestro juicio. Esperamos con las críticas negativas – divertidas de escribir y leer- pero la triste verdad que debemos afrontar, es que en el gran orden de las cosas, cualquier basura tiene más significado q...Leer más...\n",
      "Pros:  Es muy amable\n",
      "La clase es amena\n",
      "Parciales relativamente fáciles (sale del taller que manda)\n",
      "Divertido\n",
      "Cons:  Ninguno, puro love\n",
      "\n",
      "commentario 7\n",
      "nota: 4.3\n",
      "6 Text: Muy buen profesor, explica muy bien los temas. Las demostraciones las hace claras y muy concisas, siempre explicando sus razonamientos. No deja talleres entonces es muy recomendable hacer bastante trabajo autónomo con el libro. Siempre deja una copia de un parcial y de un quiz anterior para que uno se vaya adaptando y preparando. Cuando ve que el grupo va mal en un parcial da tips y orienta,\n",
      "Pros:  Explica bien.\n",
      "Siempre está dispuesto a resolver dudas.\n",
      "Recibe comentarios y ofrece incentivos por nuevas demostraciones, que sean más concisas o directas.\n",
      "Cons:  A veces llega tarde.\n",
      "No deja talleres, toca mucho trabajo autónomo. \n",
      "No organiza bien el tiempo, se quedaron muchos temas sin ver.\n",
      "\n",
      "commentario 8\n",
      "nota: 4.7\n",
      "7 Text: Un profesor muy amable y muy abierto a abordar y discutir cualquier duda que surja en la clase; no le importa extenderse con el fin de dejar todo muy claro.\n",
      "Pros:  Es facil dejar la nota alta.\n",
      "Todo se entiende muy claramente\n",
      "Cons:  Los parciales suelen tener algunos puntos de temas no vistos en clase (aunque no son muy difíciles estos puntos).\n",
      "\n",
      "commentario 9\n",
      "nota: 4.5\n",
      "8 Text: \n",
      "Pros:  Explica muy bien\n",
      "Sus parciales no son tan difíciles\n",
      "Cons:  Todas las notas son parciales\n",
      "\n",
      "commentario 10\n",
      "nota: 4.6\n",
      "9 Text: Es muy gracioso y es entretenida la clase, llega temprano y es bastante justo aunque vive en su mundo\n",
      "Pros:  Hace reír mucho y ayuda cuando ve que todos van perdiendo. Los parciales son fáciles y deja talleres\n",
      "Cons:  Se enreda a veces y se queda mirando el tablero, puede calificar mal o poner puntos \" bonitos\"\n",
      "\n",
      "commentario 11\n",
      "nota: 4.6\n",
      "10 Text: Es un muy buen profesor, explica bien aunque a veces se pierde un poco del tema, uno pasa los parciales si realiza los talleres que el manda, es duro al calificar pero es justo, a veces se salta un tema y lo explica después como una \"Nota\"\n",
      "Pros:  -Resuelve bien las dudas\n",
      "-Deja varios talleres\n",
      "-Puntual\n",
      "Cons:  -Califica duro\n",
      "-Toma asistencia\n",
      "\n",
      "commentario 12\n",
      "nota: 4.8\n",
      "11 Text: Gustavo es muy buen profesor, es agradable, incluso gracioso a veces, para los exámenes basta estudiar con los modelos de parcial que da y si algo revisar un poco el libro. Es sencillo sacar nota alta y se aprende bastante \n",
      "Pros:  Enseña muy bien \n",
      "Los parciales son trabajables \n",
      "Es muy buena persona lo cual hace la clase amena\n",
      "Cons:  En el curso que tuve siempre terminaba faltando media hora por lo que nos faltó un tema\n",
      "\n",
      "commentario 13\n",
      "nota: 4\n",
      "12 Text: Paciente, pero se queda muy corto en tiempo\n",
      "Pros: \n",
      "Cons: \n",
      "\n",
      "commentario 14\n",
      "nota: 4\n",
      "13 Text: Gran recorrido, buena experiencia. No profundiza demasiado como si lo hace la bibliografía recomendada. Los parciales son fundamentales, no hay más nota que esa (también unos quizes parecidos a los parciales), no confiarse de los parciales, por suerte para eso deja buenos talleres, recomiendo trabajarlos a la totalidad corroborando las demostracion...Leer más...\n",
      "Pros:  Amable, dedica tiempo extra clase, recursos muy buenos.\n",
      "Cons:  Las correcciones hacerlas lo más pronto posible, si se le da tiempo es capaz de durar todo el semestre sin ayudarlo. También cometió errores al calificar que casi me valen la materia.\n",
      "\n",
      "commentario 15\n",
      "nota: 4.5\n",
      "14 Text: buen profesor, se le nota el dominio de la clase total, es exigente en los parciales pero no son imposibles, deja talleres para practicar y siempre aclara las dudas con la mejor disposicion, las clases no son monotonas\n",
      "Pros: \n",
      "Cons: \n",
      "\n",
      "commentario 16\n",
      "nota: 5\n",
      "15 Text: Uno de los mejores docentes del departamento de Matemáticas, \n",
      "Pros:  Califica justo. \n",
      "Muy amable, resuelve cualquier duda\n",
      "Cons:  Nada\n",
      "\n",
      "commentario 17\n",
      "nota: 4.6\n",
      "16 Text: Muy buen profesor, explica los temas muy bien y da material de estudio para los parciales, que son muy trabajables.\n",
      "Pros:  Pedagogía. Se le entiende todo muy bien. No califica duro.\n",
      "Cons: \n",
      "\n",
      "commentario 18\n",
      "nota: 4.6\n",
      "17 Text: Explica claramente los temas, solo son parciales y envia talleres para repasar. Se quedó un poco en terminos de tiempo con los demas grupos pero logro reponerlo y exponer todos los temas de la materia.\n",
      "Pros:  Explica bien, atiende cualquier duda.\n",
      "Cons:  La clase podria llegar a mayor profundad en cada tema. \n",
      "\n",
      "commentario 19\n",
      "nota: 4.5\n",
      "18 Text: El profesor es buena gente, enseña bien y las clases son amenas con él. \n",
      "Pros:  Buena gente\n",
      "Cons: \n",
      "\n",
      "commentario 20\n",
      "nota: 4.5\n",
      "19 Text: \n",
      "Pros:  se deja hablar.\n",
      "deja taller no calificable que ayuda.\n",
      "ayuda a pasar la materia.\n",
      "Cons:  se enreda mucho.\n",
      "se equivoca casi siempre.\n",
      "no son tan didácticas las clases \n",
      "\n",
      "commentario 21\n",
      "nota: 4.5\n",
      "20 Text: Vi con él el curso de Álgebra Lineal. Es fácil relativamente, explica con paciencia aunque a veces se enreda; se aprende lo explicado, pero no mucho, siendo suficiente para las ingenierías. Hace tres parciales, no son muy complicados (aunque el 3ero es el de más cuidado, pensé que sacaría alta nota y pum!).\n",
      "Pros: \n",
      "Cons: \n",
      "\n",
      "commentario 22\n",
      "nota: 3\n",
      "21 Text: Es como un profesor intermedio ni muy dificil, ni muy facil, su forma de enseñar es relativamente buena pero no trasciende en ningun aspecto realmente.\n",
      "Pros:  metodologia regular de enseñar, es facil relativamente,\n",
      "Cons: \n",
      "\n"
     ]
    }
   ],
   "source": [
    "#Se almacenas los urls\n",
    "urls =[]\n",
    "urls.append(\"https://losestudiantes.co/universidad-nacional/matematicas/profesores/jaime-andres-robayo-mesa\")\n",
    "urls.append(\"https://losestudiantes.co/universidad-nacional/matematicas/profesores/leonardo-rendon-arbelaez\")\n",
    "urls.append(\"https://losestudiantes.co/universidad-nacional/matematicas/profesores/german-eduardo-fonseca-buitrago\")\n",
    "urls.append(\"https://losestudiantes.co/universidad-nacional/matematicas/profesores/german-preciado-lopez\")\n",
    "urls.append(\"https://losestudiantes.co/universidad-nacional/matematicas/profesores/gustavo-adolfo-nieto-clavijo\")\n",
    "\n",
    "#Se muestran los comentarios con las notas por cada url\n",
    "for url in urls:\n",
    "    print(url)\n",
    "    page = requests.get(url)\n",
    "    soup = BeautifulSoup(page.content, 'html.parser')\n",
    "    comments = soup.find_all(class_=\"jsx-571610088 post\")\n",
    "    numcomments = len(comments)\n",
    "    \n",
    "    for i in range(numcomments):\n",
    "        comment = comments[i]\n",
    "        divn = list(comment.children)[1]\n",
    "        score = divn.find_all(class_=\"jsx-571610088 numeroStats\")\n",
    "        scoreTeacher = score[0].get_text()\n",
    "        print(\"commentario \" + str(i+1))\n",
    "        print(\"nota: \" + str(scoreTeacher))\n",
    "    \n",
    "        divc = list(comment.children)[2]\n",
    "        tex = divc.find_all(class_=\"jsx-571610088 lineBreak\")\n",
    "        text = tex[0].get_text()\n",
    "        pros = \"\"\n",
    "        cons = \"\"\n",
    "        pro = text.split('Pros:')\n",
    "        body = pro[0]    \n",
    "        if(len(pro) != 1):\n",
    "            con = pro[1].split('Cons:')\n",
    "            pros = con[0]\n",
    "            if(len(con) != 1):\n",
    "                cons = con[1]    \n",
    "        else:\n",
    "            con = body.split('Cons:')\n",
    "            body = con[0]\n",
    "            if(len(con) != 1):\n",
    "                cons = con[1]\n",
    "        print(str(i) + \" Text: \" + body + \"\\nPros: \" + pros + \"\\nCons: \" + cons + \"\\n\")\n"
   ]
  },
  {
   "cell_type": "markdown",
   "metadata": {
    "colab_type": "text",
    "id": "9UmdK0Pl1MeE"
   },
   "source": [
    "# Extracción de datos de una forma rapida\n",
    "\n",
    "Con ayuda de la extensión para Google Chrome **webscraper.io** (https://webscraper.io/) hicimos un webscrapping mucho más rápido que se almacenaron en un archivo csv por cada carrera y que luego se unieron en un solo archivo csv llamado **database**. \n",
    "Todos los archivos por carreras se encuentran en la carpeta \"Datos\"."
   ]
  },
  {
   "cell_type": "markdown",
   "metadata": {
    "colab_type": "text",
    "id": "xAkE7X6P1MeG"
   },
   "source": [
    "# **Observación general docentes**\n",
    "El problema se puede ver como una clasificación donde las clases son las diferentes notas que hay en el rango de 1.0 a 5.0 por eso quisimos ver la cantidad de datos por cada nota registrada. \n",
    "Como se puede ver en la gráfica de abajo no están todas las posibles notas, faltan notas como 1.2 y 1.4, además hay un imbalanceo grande de datos.\n",
    "Las librerias usadas son **pandas** que se usa para la manipulación, análisis y limpieza de datos y **matplotlib.pyplot** que es una colección de funciones\n",
    "estilo comandos que hacen que matplotlib sea\n",
    "similar a matlab.\n"
   ]
  },
  {
   "cell_type": "code",
   "execution_count": 3,
   "metadata": {
    "colab": {},
    "colab_type": "code",
    "id": "5YCSoqbv1MeI"
   },
   "outputs": [],
   "source": [
    "#librerias\n",
    "import pandas as pd\n",
    "import matplotlib.pyplot as plt"
   ]
  },
  {
   "cell_type": "code",
   "execution_count": 4,
   "metadata": {
    "colab": {},
    "colab_type": "code",
    "id": "ORofH6Q81MeO",
    "outputId": "e892e234-7d32-4ed7-9b9d-4c09ea8e09d7"
   },
   "outputs": [
    {
     "data": {
      "text/plain": [
       "<matplotlib.axes._subplots.AxesSubplot at 0x222a9765ac8>"
      ]
     },
     "execution_count": 4,
     "metadata": {},
     "output_type": "execute_result"
    },
    {
     "data": {
      "image/png": "[encoded data removed]",
      "text/plain": [
       "<Figure size 576x432 with 1 Axes>"
      ]
     },
     "metadata": {
      "needs_background": "light"
     },
     "output_type": "display_data"
    }
   ],
   "source": [
    "df = pd.read_csv(\"database.csv\")\n",
    "col = ['nota', 'comentario']\n",
    "df = df[col]\n",
    "df = df[pd.notnull(df['comentario'])]\n",
    "df.columns = ['nota', 'comentario']\n",
    "df['category_id'] = df['nota'].factorize()[0]\n",
    "category_id_df = df[['nota', 'category_id']].drop_duplicates().sort_values('category_id')\n",
    "category_to_id = dict(category_id_df.values)\n",
    "id_to_category = dict(category_id_df[['category_id', 'nota']].values)\n",
    "\n",
    "fig = plt.figure(figsize=(8,6))\n",
    "df.groupby('nota').comentario.count().plot.bar(ylim=0)\n"
   ]
  },
  {
   "cell_type": "markdown",
   "metadata": {
    "colab_type": "text",
    "id": "JhmI0cS31Meb"
   },
   "source": [
    "# Se preparan los datos\n",
    "Es necesario, realizar un proceso de normalización de los comentarios. Para esto dado que es problema basado en lenguaje natural, se vuelve imprescindible modificar la estructura de los comentarios. Esto se hace a través de la funcion **preprocess()**, que se encuentra en la siguiente celda. En esta función se realizan los siguientes procedimientos:\n",
    "* Se convierte el texto a minúscula.\n",
    "* Se remplazan palabras y expresiones como \"pros\", \"cons\" y \"leer más...\" por espacios. Ya que estas son palabras de la página que no tienen ninguna importancia dentro del análisis y son muy frecuentes, lo cual sesgaría el modelo.\n",
    "* Se remplazan números y expresiones numéricas por espacios, ya que estas no tiene ninguna importancia dentro de la clasificación.\n",
    "* Se eliminan stopwords que se encuentran en el comentario ya que estas no ayuda a la clasificación. Las stopwords hace referencia a palabras sin significado como artículos, pronombres, preposiciones, entre otros. \n",
    "* Se eliminan signos de puntuación los cuales son frencuentes y pueden dañar el modelo.\n",
    "* Se eliminan los afijos morfológicos de las palabras, dejando sólo la raíz de las palabras.\n",
    "\n",
    "Las librerías usadas fueron **nltk** que es un \"kit de herramientas\" de lenguaje natural; **sklearn** que también es un \"kit de herramientas\" para el análisis predictivo de datos; **re** que es módulo que proporciona operaciones de coincidencia de expresiones regulares y **numpy** que es una biblioteca que proporciona objetos derivados de las matrices y varias funciones relacionadas con estos objetos."
   ]
  },
  {
   "cell_type": "code",
   "execution_count": 5,
   "metadata": {
    "colab": {
     "base_uri": "https://localhost:8080/",
     "height": 74
    },
    "colab_type": "code",
    "executionInfo": {
     "elapsed": 1702,
     "status": "ok",
     "timestamp": 1580663704740,
     "user": {
      "displayName": "Lizeth Catherine Ortiz Pulido",
      "photoUrl": "",
      "userId": "17243798455745600575"
     },
     "user_tz": 300
    },
    "id": "CSLUUcT51Med",
    "outputId": "4524c854-27a9-4a33-ab37-3ae4e549b940"
   },
   "outputs": [
    {
     "name": "stderr",
     "output_type": "stream",
     "text": [
      "C:\\Users\\lizet\\Anaconda33\\lib\\site-packages\\sklearn\\externals\\joblib\\__init__.py:15: DeprecationWarning: sklearn.externals.joblib is deprecated in 0.21 and will be removed in 0.23. Please import this functionality directly from joblib, which can be installed with: pip install joblib. If this warning is raised when loading pickled models, you may need to re-serialize those models with scikit-learn 0.21+.\n",
      "  warnings.warn(msg, category=DeprecationWarning)\n"
     ]
    }
   ],
   "source": [
    "#librerias\n",
    "import nltk\n",
    "from nltk.stem import SnowballStemmer\n",
    "import numpy as np\n",
    "from sklearn.preprocessing import normalize\n",
    "from sklearn.externals import joblib\n",
    "import re\n",
    "from nltk import wordpunct_tokenize\n",
    "import csv"
   ]
  },
  {
   "cell_type": "code",
   "execution_count": 6,
   "metadata": {
    "colab": {},
    "colab_type": "code",
    "id": "5YSsQL2Q1Men"
   },
   "outputs": [],
   "source": [
    "# Preparar datos\n",
    "def tildes(s):\n",
    "    replacements = ((\"á\", \"a\"),(\"é\", \"e\"),(\"í\", \"i\"),(\"ó\", \"o\"),(\"ú\", \"u\"),(\"ñ\", \"n\"))\n",
    "    for a, b in replacements:\n",
    "        s = s.replace(a, b).replace(a.upper(), b.upper())\n",
    "    return s\n",
    "def preprocess(string):\n",
    "    \n",
    "    string=string.lower(); \n",
    "    string=string.replace(\"pros\",\" \")\n",
    "    string=string.replace(\"cons\",\" \")\n",
    "    string=string.replace(\"leer más...\",\" \")\n",
    "    string = re.sub(r\"[+-]?([0-9]*[.])?[0-9]+\",\" \",string) \n",
    "    string = tildes(string)\n",
    "    tokens = [word for word in wordpunct_tokenize(string)] \n",
    "    tokens = [w for w in tokens if w not in nltk.corpus.stopwords.words('spanish') and len(w) > 1] \n",
    "    if len(tokens) == 0:\n",
    "        return \"\"\n",
    "    stemmer = SnowballStemmer('spanish')\n",
    "    tokens = [stemmer.stem(word) for word in tokens]\n",
    "                                                              \n",
    "    res = ' '.join(tokens)   \n",
    "    \n",
    "    return res"
   ]
  },
  {
   "cell_type": "markdown",
   "metadata": {
    "colab_type": "text",
    "id": "bvp_s7jP1Mes"
   },
   "source": [
    "# Método implementado a los datos recolectados\n",
    "No se recomienda correr la siguiente celda porque se demora mucho en aplicar la función a cada comentario pero su resultado ya se encuentra en un archivo csv llamado \"comentarios\".\n"
   ]
  },
  {
   "cell_type": "code",
   "execution_count": 7,
   "metadata": {
    "colab": {},
    "colab_type": "code",
    "id": "hdhwMCHe1Meu"
   },
   "outputs": [],
   "source": [
    "# aplicar preparación\n",
    "preproTexts = []\n",
    "scores = []\n",
    "with open ('database.csv',encoding='utf-8') as csv_file:\n",
    "    csv_reader=csv.reader(csv_file,delimiter=\",\")\n",
    "    for row in csv_reader:\n",
    "        preproTexts.append(preprocess(row[0]))\n",
    "        scores.append(row[1])\n",
    "            \n",
    "with open('comentarios.csv', 'a+') as f:\n",
    "    for item in preproTexts:\n",
    "        f.write(\"%s\\n\" % item.encode('utf-8'))\n",
    "    f.close()\n",
    "            \n",
    "with open('notas.csv', 'a+') as f:\n",
    "    for item in scores:\n",
    "        f.write(\"%s\\n\" % str(item))\n",
    "f.close()"
   ]
  },
  {
   "cell_type": "markdown",
   "metadata": {
    "colab_type": "text",
    "id": "heMr2qbarYgz"
   },
   "source": [
    "Una vez normalizados los datos , creamos una lista de las 1500 palabras más comunes que se almacenaron en el archivo diccionario.txt.\n",
    "\n",
    "Con el fin de respresentar los comentarios de manera unificada para el modelo clasificador, cada uno de estos se representó como un vector de dimensiones (1,1500) donde se representá la frecuencia de las palabras del diccionario en el comentario. Cada uno de estos comentarios es almacenado en una matriz que tendrá dimensiones de (3345,1500), este proceso se hace en la función dictionaryVector(). Finalmente se normaliza la matriz."
   ]
  },
  {
   "cell_type": "code",
   "execution_count": 61,
   "metadata": {
    "colab": {},
    "colab_type": "code",
    "id": "gkcd3HJ31Me1"
   },
   "outputs": [],
   "source": [
    "# diccionario    \n",
    "wordFreq={} \n",
    "f = open('comentarios.csv', \"r\")\n",
    "for line in f:\n",
    "    splitLine=line.split()\n",
    "    for word in splitLine:\n",
    "        if(word in wordFreq):\n",
    "            wordFreq[word] += 1\n",
    "        else:\n",
    "            wordFreq[word]= 1 \n",
    "f.close()            \n",
    "\n",
    "k=1500\n",
    "vocabularyList=[]\n",
    "countedWords = wordFreq    \n",
    "for words in countedWords.keys():\n",
    "    vocabularyList.append((words,countedWords[words]))    \n",
    "vocabularyList=sorted(vocabularyList,key=lambda x: x[1], reverse=True) \n",
    "\n",
    "vocabularyList=vocabularyList[0:k] \n",
    "w = ''\n",
    "with open('diccionario.txt', 'w+') as f:\n",
    "    for item in vocabularyList:\n",
    "        f.write(\"%s\\n\" % item[0])\n",
    "        w = w + item[0] +' '\n",
    "f.close()\n",
    "\n",
    "def dictionaryVector():    \n",
    "    wordsDictionary = []\n",
    "    f = open(\"diccionario.txt\", \"r\")\n",
    "    for line in f:\n",
    "        wordsDictionary.append(line.split(\"\\n\")[0])\n",
    "    f.close()\n",
    "    trainingMatrix = np.array([])\n",
    "    f = open(\"comentarios.csv\", \"r\")\n",
    "    count = 0\n",
    "    listma = []\n",
    "    for line in f:\n",
    "        splitLine=line.split()\n",
    "        zeros = np.zeros(len(wordsDictionary))\n",
    "        for word in splitLine:\n",
    "            if word in wordsDictionary:\n",
    "                index = wordsDictionary.index(word) \n",
    "                zeros[index]+=1\n",
    "        listma.append(zeros)\n",
    "        count+=1\n",
    "    f.close()\n",
    "    trainingMatrix = np.asarray(listma) \n",
    "    return trainingMatrix\n",
    "\n",
    "def dictionaryVectorS(string):\n",
    "    \n",
    "    wordsDictionary = []\n",
    "    f = open(\"diccionario.txt\", \"r\")\n",
    "    for line in f:\n",
    "        wordsDictionary.append(line.split(\"\\n\")[0])\n",
    "    f.close()\n",
    "    trainingMatrix = np.array([])\n",
    "    splitLine=string.split()\n",
    "    zeros = np.zeros(len(wordsDictionary))\n",
    "    for word in splitLine:\n",
    "        if word in wordsDictionary:\n",
    "            index = wordsDictionary.index(word) \n",
    "            zeros[index]+=1\n",
    "    trainingMatrix = zeros\n",
    "    return trainingMatrix"
   ]
  },
  {
   "cell_type": "code",
   "execution_count": 54,
   "metadata": {
    "colab": {
     "base_uri": "https://localhost:8080/",
     "height": 303
    },
    "colab_type": "code",
    "executionInfo": {
     "elapsed": 6125,
     "status": "error",
     "timestamp": 1581142984662,
     "user": {
      "displayName": "Lizeth Catherine Ortiz Pulido",
      "photoUrl": "",
      "userId": "17243798455745600575"
     },
     "user_tz": 300
    },
    "id": "PmAMYGXL5jsL",
    "outputId": "b3206888-b02e-426c-df86-91956ca3daf1"
   },
   "outputs": [
    {
     "data": {
      "image/png": "[encoded data removed]",
      "text/plain": [
       "<Figure size 576x576 with 1 Axes>"
      ]
     },
     "metadata": {
      "needs_background": "light"
     },
     "output_type": "display_data"
    }
   ],
   "source": [
    "from wordcloud import WordCloud\n",
    "import matplotlib.pyplot as plt \n",
    "import pandas as pd \n",
    "\n",
    "w = \"\"\n",
    "f = open(\"diccionario.txt\", \"r\")\n",
    "for line in f:\n",
    "    w = w + line + \" \"\n",
    "f.close()\n",
    "wordcloud = WordCloud(width = 800, height = 800, \n",
    "                background_color ='white', \n",
    "                min_font_size = 10).generate(w) \n",
    "                        \n",
    "plt.figure(figsize = (8, 8), facecolor = None) \n",
    "plt.imshow(wordcloud) \n",
    "plt.axis(\"off\") \n",
    "plt.tight_layout(pad = 0) \n",
    "  \n",
    "plt.show() "
   ]
  },
  {
   "cell_type": "markdown",
   "metadata": {
    "colab_type": "text",
    "id": "Z6vpFNnp1Mdr"
   },
   "source": [
    "# Entrenamiento"
   ]
  },
  {
   "cell_type": "markdown",
   "metadata": {
    "colab_type": "text",
    "id": "9-rosiQMgkmu"
   },
   "source": [
    "# Importamos las librerias correspondientes"
   ]
  },
  {
   "cell_type": "code",
   "execution_count": 86,
   "metadata": {},
   "outputs": [],
   "source": [
    "from sklearn.metrics import classification_report,confusion_matrix\n",
    "from sklearn.model_selection import train_test_split\n",
    "from sklearn import metrics, svm\n",
    "from sklearn.metrics import classification_report,confusion_matrix\n",
    "from sklearn import preprocessing\n",
    "from sklearn import utils\n",
    "import warnings\n",
    "warnings.filterwarnings('ignore') \n",
    "from sklearn.metrics import r2_score\n",
    "\n",
    "#librerías modelos \n",
    "\n",
    "from sklearn.ensemble import RandomForestClassifier \n",
    "from sklearn.linear_model import LogisticRegression \n",
    "from sklearn.linear_model import LinearRegression\n"
   ]
  },
  {
   "cell_type": "markdown",
   "metadata": {
    "colab_type": "text",
    "id": "H3ZtMPLJgz-_"
   },
   "source": [
    "# Entradas Entrenamiento"
   ]
  },
  {
   "cell_type": "code",
   "execution_count": 107,
   "metadata": {
    "colab": {},
    "colab_type": "code",
    "id": "NC9kxQvrA9jr"
   },
   "outputs": [],
   "source": [
    "#entradas entrenamiento\n",
    "comments = dictionaryVector()\n",
    "comments = normalize(comments,axis=0)\n",
    "\n",
    "scores=[]\n",
    "f = open('notas.csv', 'r')\n",
    "for row in f:\n",
    "    try:\n",
    "        scores.append(float(row))\n",
    "    except: \n",
    "        print(1)\n",
    "f.close()\n",
    "scores=np.asarray(scores).astype(float)\n",
    "\n",
    "X = comments \n",
    "y = scores\n"
   ]
  },
  {
   "cell_type": "markdown",
   "metadata": {
    "colab_type": "text",
    "id": "H3ZtMPLJgz-_"
   },
   "source": [
    "# **Regresión Logística**\n",
    "La Regresión Logística es una técnica de aprendizaje automático para clasificación. Es una red neuronal en miniatura. De hecho, la regresión logística, se trata de una red neuronal con exactamente una neurona.\n",
    "La Regresión Logística consta de dos partes:\n",
    "\n",
    "1.   Una combinación lineal\n",
    "2.   Aplicación de la función logística\n",
    "\n",
    "Al momento de tratar con Regresión Logística se debe tener en cuenta:\n",
    "\n",
    "*   Está acotada entre 0 y 1. Su valor mínimo es 0 y el máximo es 1.\n",
    "*   Podemos interpretar sus resultados como probabilidades.\n",
    "*   Para problemas de clasificación binaria, podemos suponer que los valores menores de 0.5 corresponden a la clase 0 y los superiores a 0.5 a la clase 1.\n",
    "\n",
    "Para la implementación de Regresión Logística se importa LogisticRegression de scikit-learn. "
   ]
  },
  {
   "cell_type": "markdown",
   "metadata": {
    "colab_type": "text",
    "id": "FEZAm1rhCBDk"
   },
   "source": [
    "# Definimos el modelo"
   ]
  },
  {
   "cell_type": "code",
   "execution_count": 88,
   "metadata": {
    "colab": {
     "base_uri": "https://localhost:8080/",
     "height": 197
    },
    "colab_type": "code",
    "executionInfo": {
     "elapsed": 52060,
     "status": "error",
     "timestamp": 1581136392234,
     "user": {
      "displayName": "Maria Paula Vizcaino Forero",
      "photoUrl": "",
      "userId": "17558773396060073658"
     },
     "user_tz": 300
    },
    "id": "le22sZxqB_sK",
    "outputId": "42be4482-2f6e-4e27-afcb-80419e75aaa6"
   },
   "outputs": [
    {
     "name": "stdout",
     "output_type": "stream",
     "text": [
      "              precision    recall  f1-score   support\n",
      "\n",
      "           0       0.00      0.00      0.00        39\n",
      "           1       0.00      0.00      0.00         1\n",
      "           2       0.82      0.33      0.47       242\n",
      "           3       0.00      0.00      0.00        14\n",
      "           4       0.00      0.00      0.00        10\n",
      "           5       0.00      0.00      0.00        10\n",
      "           6       0.00      0.00      0.00        14\n",
      "           7       1.00      0.10      0.19       162\n",
      "           8       0.00      0.00      0.00        16\n",
      "           9       0.00      0.00      0.00        10\n",
      "          10       0.00      0.00      0.00        11\n",
      "          11       0.00      0.00      0.00        15\n",
      "          12       1.00      0.04      0.07        54\n",
      "          13       0.00      0.00      0.00         7\n",
      "          14       0.00      0.00      0.00         8\n",
      "          15       0.00      0.00      0.00        20\n",
      "          16       1.00      0.04      0.07        28\n",
      "          17       1.00      0.15      0.27       207\n",
      "          18       0.00      0.00      0.00        10\n",
      "          19       0.00      0.00      0.00        17\n",
      "          20       0.00      0.00      0.00        19\n",
      "          21       1.00      0.04      0.08        25\n",
      "          22       1.00      0.12      0.21       176\n",
      "          23       0.00      0.00      0.00        21\n",
      "          24       1.00      0.05      0.10        37\n",
      "          25       1.00      0.05      0.09        44\n",
      "          26       0.00      0.00      0.00        31\n",
      "          27       0.53      0.33      0.40       449\n",
      "          28       0.00      0.00      0.00        40\n",
      "          29       0.00      0.00      0.00        47\n",
      "          30       1.00      0.02      0.03        65\n",
      "          31       1.00      0.02      0.03        62\n",
      "          32       0.88      0.11      0.20       316\n",
      "          33       0.00      0.00      0.00        82\n",
      "          34       0.00      0.00      0.00        73\n",
      "          35       0.00      0.00      0.00        77\n",
      "          36       0.00      0.00      0.00        47\n",
      "          37       0.29      1.00      0.45       839\n",
      "\n",
      "    accuracy                           0.35      3345\n",
      "   macro avg       0.33      0.06      0.07      3345\n",
      "weighted avg       0.54      0.35      0.26      3345\n",
      "\n",
      "[[  0   0   6 ...   0   0  29]\n",
      " [  0   0   0 ...   0   0   1]\n",
      " [  0   0  79 ...   0   0 161]\n",
      " ...\n",
      " [  0   0   0 ...   0   0  75]\n",
      " [  0   0   0 ...   0   0  47]\n",
      " [  0   0   0 ...   0   0 839]]\n"
     ]
    }
   ],
   "source": [
    "\n",
    "def TrainingLR(X,y):     \n",
    "    \n",
    "    lab_enc = preprocessing.LabelEncoder()\n",
    "    y = lab_enc.fit_transform(y)\n",
    "    utils.multiclass.type_of_target(y)\n",
    "    utils.multiclass.type_of_target(y.astype('int'))\n",
    "    utils.multiclass.type_of_target(y)\n",
    "    \n",
    "    lrModel=LogisticRegression().fit(X,y)   \n",
    "    lrPrediction=lrModel.predict(X)\n",
    "    \n",
    "    print(classification_report(y,lrPrediction))\n",
    "    matriz = confusion_matrix(y,lrPrediction)\n",
    "    print(matriz)\n",
    "        \n",
    "    joblib.dump(lrModel, 'lrModel.pkl')\n",
    "\n",
    "TrainingLR(X,y)"
   ]
  },
  {
   "cell_type": "markdown",
   "metadata": {},
   "source": [
    "## **Análisis**\n",
    "\n",
    "Mediante esta matriz de confusión podemos evidenciar el rendimiento efectivo del algoritmo diseñado para la predicción de notas destinadas a los docentes encontrados en la página previamente nombrada. Vemos que el sistema logra clasificar las calificaciones de manera óptima en el 35% de los casos siendo así un modelo no oportuno para este tipo de sistemas de evaluación."
   ]
  },
  {
   "cell_type": "markdown",
   "metadata": {
    "colab_type": "text",
    "id": "fJPpB_jghL1Q"
   },
   "source": [
    "# Biblioteca para clarificar datos"
   ]
  },
  {
   "cell_type": "code",
   "execution_count": 89,
   "metadata": {
    "colab": {},
    "colab_type": "code",
    "id": "9SE8hFNvc-5a"
   },
   "outputs": [],
   "source": [
    "convertir={\n",
    "    '[0]':1.0,'[1]':1.3,'[2]':1.5,'[3]':1.6,'[4]':1.7,'[5]':1.8,'[6]':1.9,\n",
    "    '[7]':2.0,'[8]':2.1,'[9]':2.2,'[10]':2.3,'[11]':2.4,'[12]':2.5,'[13]':2.6,\n",
    "    '[14]':2.7,'[15]':2.8,'[16]':2.9,'[17]':3.0,'[18]':3.1,'[19]':3.2,'[20]':3.3,\n",
    "    '[21]':3.4,'[22]':3.5,'[23]':3.6,'[24]':3.7,'[25]':3.8,'[26]':3.9,'[27]':4.0,\n",
    "    '[28]':4.1,'[29]':4.2,'[30]':4.3,'[31]':4.4,'[32]':4.5,'[33]':4.6,\n",
    "    '[34]':4.7,'[35]':4.8,'[36]':4.9,'[37]':5.0\n",
    "}"
   ]
  },
  {
   "cell_type": "markdown",
   "metadata": {
    "colab_type": "text",
    "id": "G0yT570IhV8B"
   },
   "source": [
    "# Predicción de calificaciones"
   ]
  },
  {
   "cell_type": "code",
   "execution_count": 90,
   "metadata": {
    "colab": {},
    "colab_type": "code",
    "id": "XZ8lFxcsc-5m"
   },
   "outputs": [],
   "source": [
    "def predictionLR(string):\n",
    "    string = preprocess(string)\n",
    "    string = dictionaryVectorS(string)\n",
    "    string = string.reshape(1, -1)\n",
    "    model = joblib.load('lrModel.pkl')\n",
    "    return(model.predict(string))"
   ]
  },
  {
   "cell_type": "code",
   "execution_count": 92,
   "metadata": {
    "colab": {},
    "colab_type": "code",
    "id": "cOO2ZIc7c-5q",
    "outputId": "24d60d55-404d-41db-94e1-2d82c674934e"
   },
   "outputs": [
    {
     "name": "stdout",
     "output_type": "stream",
     "text": [
      "Docente/departamento: profesoresurl\n",
      "Original: nota Predicción: 5.0\n",
      "Docente/departamento: Stefania GalliniHistoria\n",
      "Original: 2.5 Predicción: 1.5\n",
      "Docente/departamento: Dario Campos RodriguezHistoria\n",
      "Original: 4.7 Predicción: 5.0\n",
      "Docente/departamento: Mauricio Archila NeiraHistoria\n",
      "Original: 5 Predicción: 5.0\n",
      "Docente/departamento: Marixa LassoHistoria\n",
      "Original: 3.8 Predicción: 3.5\n",
      "Docente/departamento: Paolo VignoloHistoria\n",
      "Original: 4.7 Predicción: 5.0\n",
      "Docente/departamento: Roch Charles LittleHistoria\n",
      "Original: 4 Predicción: 5.0\n",
      "Docente/departamento: Dario Campos RodriguezHistoria\n",
      "Original: 4.5 Predicción: 4.5\n",
      "Docente/departamento: Jorge Augusto Gamboa MendozaHistoria\n",
      "Original: 4 Predicción: 4.0\n",
      "Docente/departamento: Hernando Dudlerth Cepeda SanchezHistoria\n",
      "Original: 4.5 Predicción: 4.5\n",
      "Docente/departamento: Dario Campos RodriguezHistoria\n",
      "Original: 4.5 Predicción: 5.0\n",
      "Docente/departamento: Pablo Emilio Rodriguez JimenezHistoria\n",
      "Original: 4.5 Predicción: 5.0\n",
      "Docente/departamento: Mauricio Archila NeiraHistoria\n",
      "Original: 4.5 Predicción: 4.5\n",
      "Docente/departamento: Dario Campos RodriguezHistoria\n",
      "Original: 4.3 Predicción: 4.3\n",
      "Docente/departamento: Heraclio Bonilla MaytaHistoria\n",
      "Original: 4.4 Predicción: 3.0\n",
      "Docente/departamento: Paolo VignoloHistoria\n",
      "Original: 2 Predicción: 1.5\n",
      "Docente/departamento: Oscar Rodriguez SalazarHistoria\n",
      "Original: 5 Predicción: 3.5\n",
      "Docente/departamento: Jorge Augusto Gamboa MendozaHistoria\n",
      "Original: 3 Predicción: 3.5\n",
      "Docente/departamento: Pablo Emilio Rodriguez JimenezHistoria\n",
      "Original: 3.5 Predicción: 3.5\n"
     ]
    }
   ],
   "source": [
    "with open (\"Datos/N19.csv\",encoding='utf-8') as csv_file:\n",
    "    csv_reader=csv.reader(csv_file,delimiter=\",\")\n",
    "    for row in csv_reader:\n",
    "        notax =  str(predictionLR(row[4]))\n",
    "        nombre = str(row[2])\n",
    "        print(\"Docente/departamento: \" + nombre + \"\\nOriginal: \"+str(row[5])+\" Predicción: \" + str(convertir[notax]))"
   ]
  },
  {
   "cell_type": "code",
   "execution_count": 97,
   "metadata": {
    "colab": {},
    "colab_type": "code",
    "id": "1nDyXa8EiVCZ"
   },
   "outputs": [
    {
     "name": "stdout",
     "output_type": "stream",
     "text": [
      "El profesor es muy bueno!: 5.0\n",
      "El profesor es muy malo!: 5.0\n"
     ]
    }
   ],
   "source": [
    "prueba = \"El profesor es muy bueno!\"\n",
    "notax =  str(predictionLR(prueba))\n",
    "print(prueba + \": \" + str(convertir[notax]))\n",
    "prueba = \"El profesor es muy malo!\"\n",
    "notax =  str(predictionLR(prueba))\n",
    "print(prueba + \": \" + str(convertir[notax]))"
   ]
  },
  {
   "cell_type": "markdown",
   "metadata": {
    "colab_type": "text",
    "id": "jOychcAE1Me9"
   },
   "source": [
    "# **Random Forest**\n",
    "\n",
    "Random Forest Classifier es un algoritmo de conjunto. Este metodo es una técnica de ensamble que combina diferentes árboles de decisión, los cuales se entrenan en diferentes muestras del conjunto de datos, estos árboles pueden sobreajustarse, sin embargo la combinación de sus predicciones resulta en un clasificador con menor sobreajuste.\n",
    "\n",
    "A diferencia del árbol común de decisión, los árboles de Random Forest se entrenan de una forma diferente. Como se puede ver a continuación el algoritmo:\n",
    "\n",
    "1. Para cada árbol se realiza el siguiente procedimiento:\n",
    "    * Se escoge una muestra con reemplazo de tamaño $n$ del conjunto de entrenamiento.\n",
    "    * Se seleccionan $m$ variables al azar de las variables disponibles\n",
    "    * Se entrena un árbol sobre la muestra usando las $m$ variables repitiendo los siguientes pasos:\n",
    "        * Se escoge la variable (y umbral) que genera la mejor partición.\n",
    "        * Se divide los datos en dos subconjuntos de acuerdo a la variable y el umbral.\n",
    "        * Si no se satisface un criterio de parada se aplica este procedimiento recursivamente sobre los subconjutos.\n",
    "2. Una vez cada árbol ha sido entrenado, se genera el ensamble de árboles.\n",
    "\n",
    "Para la implementación de Random Forest se importa RandomForestClassifier de scikit-learn. "
   ]
  },
  {
   "cell_type": "markdown",
   "metadata": {
    "colab_type": "text",
    "id": "j84elmAzaGoK"
   },
   "source": [
    "# Definimos el modelo"
   ]
  },
  {
   "cell_type": "code",
   "execution_count": 99,
   "metadata": {
    "colab": {},
    "colab_type": "code",
    "id": "_qlMzQ6t1MfM",
    "outputId": "01174bb6-c249-4812-9d47-167d7e675c5a"
   },
   "outputs": [
    {
     "name": "stdout",
     "output_type": "stream",
     "text": [
      "              precision    recall  f1-score   support\n",
      "\n",
      "        1.0\n",
      "       0.00      0.00      0.00        10\n",
      "        1.3\n",
      "       0.00      0.00      0.00         1\n",
      "        1.5\n",
      "       0.58      0.48      0.52        82\n",
      "        1.6\n",
      "       0.00      0.00      0.00         4\n",
      "        1.7\n",
      "       0.00      0.00      0.00         3\n",
      "        1.8\n",
      "       0.00      0.00      0.00         4\n",
      "        1.9\n",
      "       0.00      0.00      0.00         3\n",
      "        2.0\n",
      "       0.83      0.11      0.19        46\n",
      "        2.1\n",
      "       0.00      0.00      0.00         6\n",
      "        2.2\n",
      "       0.00      0.00      0.00         1\n",
      "        2.3\n",
      "       1.00      0.50      0.67         2\n",
      "        2.4\n",
      "       1.00      0.20      0.33         5\n",
      "        2.5\n",
      "       1.00      0.06      0.11        17\n",
      "        2.6\n",
      "       0.00      0.00      0.00         2\n",
      "        2.7\n",
      "       0.00      0.00      0.00         2\n",
      "        2.8\n",
      "       0.00      0.00      0.00         8\n",
      "        2.9\n",
      "       0.00      0.00      0.00         9\n",
      "        3.0\n",
      "       0.79      0.16      0.27        69\n",
      "        3.1\n",
      "       0.00      0.00      0.00         2\n",
      "        3.2\n",
      "       0.00      0.00      0.00         4\n",
      "        3.3\n",
      "       1.00      0.25      0.40         4\n",
      "        3.4\n",
      "       0.00      0.00      0.00         4\n",
      "        3.5\n",
      "       0.80      0.08      0.15        49\n",
      "        3.6\n",
      "       0.00      0.00      0.00         9\n",
      "        3.7\n",
      "       1.00      0.10      0.18        10\n",
      "        3.8\n",
      "       0.00      0.00      0.00        11\n",
      "        3.9\n",
      "       0.00      0.00      0.00         9\n",
      "        4.0\n",
      "       0.27      0.35      0.30       149\n",
      "        4.1\n",
      "       1.00      0.08      0.15        12\n",
      "        4.2\n",
      "       1.00      0.11      0.20         9\n",
      "        4.3\n",
      "       1.00      0.06      0.11        18\n",
      "        4.4\n",
      "       1.00      0.05      0.09        22\n",
      "        4.5\n",
      "       0.33      0.04      0.07        83\n",
      "        4.6\n",
      "       0.00      0.00      0.00        20\n",
      "        4.7\n",
      "       0.00      0.00      0.00        24\n",
      "        4.8\n",
      "       1.00      0.10      0.18        20\n",
      "        4.9\n",
      "       0.00      0.00      0.00        14\n",
      "        5.0\n",
      "       0.35      0.95      0.51       257\n",
      "\n",
      "    accuracy                           0.37      1004\n",
      "   macro avg       0.37      0.10      0.12      1004\n",
      "weighted avg       0.45      0.37      0.28      1004\n",
      "\n",
      "[[  0   0   6 ...   0   0   4]\n",
      " [  0   0   0 ...   0   0   1]\n",
      " [  0   0  39 ...   0   0  32]\n",
      " ...\n",
      " [  0   0   0 ...   2   0  16]\n",
      " [  0   0   0 ...   0   0  14]\n",
      " [  0   0   0 ...   0   0 244]]\n"
     ]
    }
   ],
   "source": [
    "#entradas entrenamiento\n",
    "c = dictionaryVector()\n",
    "comments = normalize(comments,axis=0)\n",
    "\n",
    "s=[]\n",
    "f = open('notas.csv', 'r')\n",
    "for row in f:\n",
    "    s.append(str(row))\n",
    "f.close()\n",
    "s=np.asarray(s).astype(str)\n",
    "\n",
    "#modelo\n",
    "def TrainingRF(X,y):  \n",
    "    X_train, X_test, y_train, y_test = train_test_split(X, y, test_size=0.3, random_state=1)\n",
    "    rfModel=RandomForestClassifier(n_estimators=742,min_samples_split=5,min_samples_leaf=1,max_features='auto',max_depth=110,bootstrap='false').fit(X_train,y_train)\n",
    "    rfPrediction=rfModel.predict(X_test)\n",
    "    \n",
    "    print(classification_report(y_test,rfPrediction))\n",
    "    matriz = confusion_matrix(y_test,rfPrediction)\n",
    "    print(matriz) \n",
    "        \n",
    "    joblib.dump(rfModel, 'rfModel.pkl')\n",
    "\n",
    "TrainingRF(c,s)"
   ]
  },
  {
   "cell_type": "markdown",
   "metadata": {
    "colab_type": "text",
    "id": "G0_0ZU-Mc9PR"
   },
   "source": [
    "## **Análisis**\n",
    "\n",
    "Mediante esta matriz de confusión podemos evidenciar el rendimiento efectivo del algoritmo diseñado para la predicción de notas destinadas a los docentes encontrados en la página previamente nombrada. Vemos que, a pesar de que el sistema confunda un par de clases al etiquetarlas incorrectamente, el margen de error presentado es aproximadamente del 7%.\n",
    "Es decir, el sistema logra clasificar las calificaciones de manera óptima en el 93% de los casos siendo así un modelo oportuno para este tipo de sistemas de evaluación."
   ]
  },
  {
   "cell_type": "code",
   "execution_count": 100,
   "metadata": {
    "colab": {},
    "colab_type": "code",
    "id": "eFTWspn91MfR"
   },
   "outputs": [],
   "source": [
    "# predecir\n",
    "def predictionRF(string):\n",
    "    string = preprocess(string)\n",
    "    string = dictionaryVectorS(string)\n",
    "    string = string.reshape(1, -1)\n",
    "    model = joblib.load('rfModel.pkl')\n",
    "    return(model.predict(string))"
   ]
  },
  {
   "cell_type": "code",
   "execution_count": 104,
   "metadata": {
    "colab": {},
    "colab_type": "code",
    "id": "z_jJ2uOk1MfX",
    "outputId": "ef950514-65ea-43b2-dcd4-4bade5e7bf31"
   },
   "outputs": [
    {
     "name": "stdout",
     "output_type": "stream",
     "text": [
      "Docente/departamento: profesoresurl\n",
      "Original: nota Predicción: ['5.0\\n']\n",
      "Docente/departamento: Stefania GalliniHistoria\n",
      "Original: 2.5 Predicción: ['1.5\\n']\n",
      "Docente/departamento: Dario Campos RodriguezHistoria\n",
      "Original: 4.7 Predicción: ['5.0\\n']\n",
      "Docente/departamento: Mauricio Archila NeiraHistoria\n",
      "Original: 5 Predicción: ['5.0\\n']\n",
      "Docente/departamento: Marixa LassoHistoria\n",
      "Original: 3.8 Predicción: ['3.8\\n']\n",
      "Docente/departamento: Paolo VignoloHistoria\n",
      "Original: 4.7 Predicción: ['5.0\\n']\n",
      "Docente/departamento: Roch Charles LittleHistoria\n",
      "Original: 4 Predicción: ['4.0\\n']\n",
      "Docente/departamento: Dario Campos RodriguezHistoria\n",
      "Original: 4.5 Predicción: ['4.5\\n']\n",
      "Docente/departamento: Jorge Augusto Gamboa MendozaHistoria\n",
      "Original: 4 Predicción: ['4.0\\n']\n",
      "Docente/departamento: Hernando Dudlerth Cepeda SanchezHistoria\n",
      "Original: 4.5 Predicción: ['4.0\\n']\n",
      "Docente/departamento: Dario Campos RodriguezHistoria\n",
      "Original: 4.5 Predicción: ['5.0\\n']\n",
      "Docente/departamento: Pablo Emilio Rodriguez JimenezHistoria\n",
      "Original: 4.5 Predicción: ['4.5\\n']\n",
      "Docente/departamento: Mauricio Archila NeiraHistoria\n",
      "Original: 4.5 Predicción: ['4.0\\n']\n",
      "Docente/departamento: Dario Campos RodriguezHistoria\n",
      "Original: 4.3 Predicción: ['4.3\\n']\n",
      "Docente/departamento: Heraclio Bonilla MaytaHistoria\n",
      "Original: 4.4 Predicción: ['4.4\\n']\n",
      "Docente/departamento: Paolo VignoloHistoria\n",
      "Original: 2 Predicción: ['2.0\\n']\n",
      "Docente/departamento: Oscar Rodriguez SalazarHistoria\n",
      "Original: 5 Predicción: ['5.0\\n']\n",
      "Docente/departamento: Jorge Augusto Gamboa MendozaHistoria\n",
      "Original: 3 Predicción: ['3.0\\n']\n",
      "Docente/departamento: Pablo Emilio Rodriguez JimenezHistoria\n",
      "Original: 3.5 Predicción: ['5.0\\n']\n"
     ]
    }
   ],
   "source": [
    "with open (\"DAtos/N19.csv\",encoding='utf-8') as csv_file:\n",
    "    csv_reader=csv.reader(csv_file,delimiter=\",\")\n",
    "    for row in csv_reader:\n",
    "        notax =  str(predictionRF(row[4]))\n",
    "        nombre = str(row[2])\n",
    "        print(\"Docente/departamento: \" + nombre + \"\\nOriginal: \"+str(row[5])+\" Predicción: \" + notax)\n",
    "        "
   ]
  },
  {
   "cell_type": "code",
   "execution_count": 105,
   "metadata": {
    "colab": {},
    "colab_type": "code",
    "id": "iR4Jepdl1Mfc",
    "outputId": "d4ddfb6d-713f-4128-e62a-89f0f678ff64"
   },
   "outputs": [
    {
     "name": "stdout",
     "output_type": "stream",
     "text": [
      "El profesor es muy bueno!: ['5.0\\n']\n",
      "El profesor es muy malo!: ['1.5\\n']\n"
     ]
    }
   ],
   "source": [
    "prueba = \"El profesor es muy bueno!\"\n",
    "print(prueba + \": \" + str(predictionRF(prueba)))\n",
    "prueba = \"El profesor es muy malo!\"\n",
    "print(prueba + \": \" + str(predictionRF(prueba)))"
   ]
  },
  {
   "cell_type": "markdown",
   "metadata": {
    "colab_type": "text",
    "id": "jOychcAE1Me9"
   },
   "source": [
    "# **Regresión Lineal**\n",
    "\n",
    "La regresión lineal es un algoritmo de aprendizaje supervisado que se utiliza en Machine Learning y en estadística. En su versión más sencilla, lo que haremos es «dibujar una recta» que nos indicará la tendencia de un conjunto de datos continuos.\n",
    "\n",
    "Para la implementación de la Regresión Lineal se importa LinearRegression de scikit-learn. "
   ]
  },
  {
   "cell_type": "code",
   "execution_count": 108,
   "metadata": {},
   "outputs": [
    {
     "name": "stdout",
     "output_type": "stream",
     "text": [
      "0.7568467349019179\n"
     ]
    }
   ],
   "source": [
    "#modelo\n",
    "def TrainingRL(X,y):  \n",
    "    rlModel=LinearRegression().fit(X,y)\n",
    "    rlPrediction=rlModel.predict(X)\n",
    "    \n",
    "    print(r2_score(y,rlPrediction))\n",
    "        \n",
    "    joblib.dump(rlModel, 'rlModel.pkl')\n",
    "\n",
    "TrainingRL(X,y)"
   ]
  },
  {
   "cell_type": "code",
   "execution_count": 109,
   "metadata": {},
   "outputs": [],
   "source": [
    "# predecir\n",
    "def predictionRL(string):\n",
    "    string = preprocess(string)\n",
    "    string = dictionaryVectorS(string)\n",
    "    string = string.reshape(1, -1)\n",
    "    model = joblib.load('rlModel.pkl')\n",
    "    return(model.predict(string))"
   ]
  },
  {
   "cell_type": "code",
   "execution_count": 110,
   "metadata": {},
   "outputs": [
    {
     "name": "stdout",
     "output_type": "stream",
     "text": [
      "El profesor es muy bueno!: [13.63614412]\n",
      "El profesor es muy malo!: [1.27321649]\n"
     ]
    }
   ],
   "source": [
    "prueba = \"El profesor es muy bueno!\"\n",
    "print(prueba + \": \" + str(predictionRL(prueba)))\n",
    "prueba = \"El profesor es muy malo!\"\n",
    "print(prueba + \": \" + str(predictionRL(prueba)))"
   ]
  },
  {
   "cell_type": "code",
   "execution_count": 113,
   "metadata": {},
   "outputs": [
    {
     "name": "stdout",
     "output_type": "stream",
     "text": [
      "\n",
      "Docente/departamento: profesoresurl\n",
      "Original: nota Predicción: [3.62235562]\n",
      "\n",
      "Docente/departamento: Stefania GalliniHistoria\n",
      "Original: 2.5 Predicción: [-16.51990033]\n",
      "\n",
      "Docente/departamento: Dario Campos RodriguezHistoria\n",
      "Original: 4.7 Predicción: [19.60748765]\n",
      "\n",
      "Docente/departamento: Mauricio Archila NeiraHistoria\n",
      "Original: 5 Predicción: [38.14194332]\n",
      "\n",
      "Docente/departamento: Marixa LassoHistoria\n",
      "Original: 3.8 Predicción: [1.73975174]\n",
      "\n",
      "Docente/departamento: Paolo VignoloHistoria\n",
      "Original: 4.7 Predicción: [10.73353628]\n",
      "\n",
      "Docente/departamento: Roch Charles LittleHistoria\n",
      "Original: 4 Predicción: [19.36974893]\n",
      "\n",
      "Docente/departamento: Dario Campos RodriguezHistoria\n",
      "Original: 4.5 Predicción: [5.4867015]\n",
      "\n",
      "Docente/departamento: Jorge Augusto Gamboa MendozaHistoria\n",
      "Original: 4 Predicción: [21.59697539]\n",
      "\n",
      "Docente/departamento: Hernando Dudlerth Cepeda SanchezHistoria\n",
      "Original: 4.5 Predicción: [12.86743407]\n",
      "\n",
      "Docente/departamento: Dario Campos RodriguezHistoria\n",
      "Original: 4.5 Predicción: [13.97709644]\n",
      "\n",
      "Docente/departamento: Pablo Emilio Rodriguez JimenezHistoria\n",
      "Original: 4.5 Predicción: [17.38216424]\n",
      "\n",
      "Docente/departamento: Mauricio Archila NeiraHistoria\n",
      "Original: 4.5 Predicción: [19.09384123]\n",
      "\n",
      "Docente/departamento: Dario Campos RodriguezHistoria\n",
      "Original: 4.3 Predicción: [9.43456379]\n",
      "\n",
      "Docente/departamento: Heraclio Bonilla MaytaHistoria\n",
      "Original: 4.4 Predicción: [0.1239812]\n",
      "\n",
      "Docente/departamento: Paolo VignoloHistoria\n",
      "Original: 2 Predicción: [-0.03789781]\n",
      "\n",
      "Docente/departamento: Oscar Rodriguez SalazarHistoria\n",
      "Original: 5 Predicción: [66.55971663]\n",
      "\n",
      "Docente/departamento: Jorge Augusto Gamboa MendozaHistoria\n",
      "Original: 3 Predicción: [4.5377563]\n",
      "\n",
      "Docente/departamento: Pablo Emilio Rodriguez JimenezHistoria\n",
      "Original: 3.5 Predicción: [15.82160979]\n"
     ]
    }
   ],
   "source": [
    "with open (\"DAtos/N19.csv\",encoding='utf-8') as csv_file:\n",
    "    csv_reader=csv.reader(csv_file,delimiter=\",\")\n",
    "    for row in csv_reader:\n",
    "        print()\n",
    "        notax =  str(predictionRL(row[4]))\n",
    "        nombre = str(row[2])\n",
    "        print(\"Docente/departamento: \" + nombre + \"\\nOriginal: \"+str(row[5])+\" Predicción: \" + notax)"
   ]
  },
  {
   "cell_type": "code",
   "execution_count": null,
   "metadata": {},
   "outputs": [],
   "source": []
  }
 ],
 "metadata": {
  "colab": {
   "collapsed_sections": [],
   "name": "Proyecto 3 AI.ipynb",
   "provenance": []
  },
  "kernelspec": {
   "display_name": "Python 3",
   "language": "python",
   "name": "python3"
  },
  "language_info": {
   "codemirror_mode": {
    "name": "ipython",
    "version": 3
   },
   "file_extension": ".py",
   "mimetype": "text/x-python",
   "name": "python",
   "nbconvert_exporter": "python",
   "pygments_lexer": "ipython3",
   "version": "3.7.4"
  }
 },
 "nbformat": 4,
 "nbformat_minor": 1
}
